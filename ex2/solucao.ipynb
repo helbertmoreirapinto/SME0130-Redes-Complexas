{
 "cells": [
  {
   "cell_type": "code",
   "execution_count": 1,
   "metadata": {},
   "outputs": [],
   "source": [
    "from exercicio import Exercicio"
   ]
  },
  {
   "cell_type": "markdown",
   "metadata": {},
   "source": [
    "---\n",
    "Exercicio 1  \n",
    "Para a rede social Hamsterster, calcule a média dos menores caminhos e o diâmetro. Considere apenas o maior componente."
   ]
  },
  {
   "cell_type": "code",
   "execution_count": 2,
   "metadata": {},
   "outputs": [
    {
     "name": "stdout",
     "output_type": "stream",
     "text": [
      "media menores caminhos: 3.45\n",
      "diametro: 14.000\n"
     ]
    }
   ],
   "source": [
    "ex1 = Exercicio('hamsterster')\n",
    "print('media menores caminhos: {:.2f}'.format(ex1.media_menor_caminho()))\n",
    "print('diametro: {:.3f}'.format(ex1.diametro()))"
   ]
  },
  {
   "cell_type": "markdown",
   "metadata": {},
   "source": [
    "---\n",
    "Exercicio 2  \n",
    "Para a rede de aeroportos (base USairport500), calcule a média e variância do comprimento dos menores caminhos. Considere apenas o maior componente na rede."
   ]
  },
  {
   "cell_type": "code",
   "execution_count": 3,
   "metadata": {},
   "outputs": [
    {
     "name": "stdout",
     "output_type": "stream",
     "text": [
      "media: 2.991\n",
      "variancia: 0.818\n"
     ]
    }
   ],
   "source": [
    "ex2_4 = Exercicio('USairport500')\n",
    "print('media: {:.3f}'.format(ex2_4.media_menor_caminho()))\n",
    "print('variancia: {:.3f}'.format(ex2_4.variancia_menor_caminho()))"
   ]
  },
  {
   "cell_type": "markdown",
   "metadata": {},
   "source": [
    "---\n",
    "Exercicio 3  \n",
    "Calcule o coeficiente de assortatividade para a rede Advogato. Considere apenas o maior componente."
   ]
  },
  {
   "cell_type": "code",
   "execution_count": 4,
   "metadata": {},
   "outputs": [
    {
     "name": "stdout",
     "output_type": "stream",
     "text": [
      "coeficiente: -0.096\n"
     ]
    }
   ],
   "source": [
    "ex3 = Exercicio('Advogato')\n",
    "print('coeficiente: {:.3f}'.format(ex3.coef_assertividade()))"
   ]
  },
  {
   "cell_type": "markdown",
   "metadata": {},
   "source": [
    "---\n",
    "Exercicio 4  \n",
    "Para a rede de aeroportos (USairport500), calcule a entropia de Shannon considerando o comprimento dos menores caminhos. Use o logaritmo na base 2 e considere apenas o maior componente."
   ]
  },
  {
   "cell_type": "code",
   "execution_count": 5,
   "metadata": {},
   "outputs": [
    {
     "name": "stdout",
     "output_type": "stream",
     "text": [
      "entropia de Shannon: 1.884\n"
     ]
    }
   ],
   "source": [
    "ex2_4.entropia_shannon()\n",
    "print('entropia de Shannon: {:.3f}'.format(ex2_4.entropia_shannon()))"
   ]
  },
  {
   "cell_type": "markdown",
   "metadata": {},
   "source": [
    "---\n",
    "Exercicio 5  \n",
    "Calcule o coeficiente de correlação de Pearson entre o grau médio dos vizinhos e o grau para a rede de palavras (word_adjacencies). Considere apenas o maior componente conectado."
   ]
  },
  {
   "cell_type": "code",
   "execution_count": 6,
   "metadata": {},
   "outputs": [
    {
     "name": "stdout",
     "output_type": "stream",
     "text": [
      "correlação de Pearson: -0.711\n"
     ]
    }
   ],
   "source": [
    "ex5 = Exercicio('word_adjacencies')\n",
    "print('correlação de Pearson: {:.3f}'.format(ex5.corr_Pearson()))"
   ]
  }
 ],
 "metadata": {
  "interpreter": {
   "hash": "de9d8da38bbeff40d21933a2999bc0ad9a11ffc419578f1b5d149749370684ea"
  },
  "kernelspec": {
   "display_name": "Python 3.9.12 ('formacao-cientista')",
   "language": "python",
   "name": "python3"
  },
  "language_info": {
   "codemirror_mode": {
    "name": "ipython",
    "version": 3
   },
   "file_extension": ".py",
   "mimetype": "text/x-python",
   "name": "python",
   "nbconvert_exporter": "python",
   "pygments_lexer": "ipython3",
   "version": "3.9.12"
  },
  "orig_nbformat": 4
 },
 "nbformat": 4,
 "nbformat_minor": 2
}
