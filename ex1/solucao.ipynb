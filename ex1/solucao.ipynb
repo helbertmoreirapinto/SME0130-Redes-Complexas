{
 "cells": [
  {
   "cell_type": "code",
   "execution_count": 1,
   "metadata": {},
   "outputs": [],
   "source": [
    "from exercicio import Exercicio"
   ]
  },
  {
   "cell_type": "markdown",
   "metadata": {},
   "source": [
    "Exercicio 1  \n",
    "Para a rede do livro \"Os miseráveis\", calcule o terceiro e quarto momento do grau:"
   ]
  },
  {
   "cell_type": "code",
   "execution_count": 2,
   "metadata": {},
   "outputs": [
    {
     "name": "stdout",
     "output_type": "stream",
     "text": [
      "3º Grau de Momento: 1408.0259740259744\n",
      "4º Grau de Momento: 33592.72727272729\n"
     ]
    }
   ],
   "source": [
    "ex1 = Exercicio('lesmis')\n",
    "for grau in [3, 4]:\n",
    "    print(f'{grau}º Grau de Momento: {ex1.momento_grau(grau)}')"
   ]
  },
  {
   "cell_type": "markdown",
   "metadata": {},
   "source": [
    "Exercicio 2  \n",
    "Qual o valor da complexidade para a rede de energia elétrica dos EUA?"
   ]
  },
  {
   "cell_type": "code",
   "execution_count": 3,
   "metadata": {},
   "outputs": [
    {
     "name": "stdout",
     "output_type": "stream",
     "text": [
      "Coeficiente de complexidade da rede: 3.871246587807098\n"
     ]
    }
   ],
   "source": [
    "ex2 = Exercicio('powergrid')\n",
    "print(f'Coeficiente de complexidade da rede: {ex2.coef_complexidade()}')"
   ]
  },
  {
   "cell_type": "markdown",
   "metadata": {},
   "source": [
    "Exercicio 3  \n",
    "Qual o valor da entropia de Shannon para a base de estradas da Europa?"
   ]
  },
  {
   "cell_type": "code",
   "execution_count": 4,
   "metadata": {},
   "outputs": [
    {
     "name": "stdout",
     "output_type": "stream",
     "text": [
      "Entropia de Shannon: 2.0033103874527756\n"
     ]
    }
   ],
   "source": [
    "ex3 = Exercicio('euroroad')\n",
    "print(f'Entropia de Shannon: {ex3.entropia_shannon()}')"
   ]
  },
  {
   "cell_type": "markdown",
   "metadata": {},
   "source": [
    "Exercicio 4  \n",
    "Qual os valores para transistividade e agrupamento medio para a base de dados de aeroportos dos EUA?"
   ]
  },
  {
   "cell_type": "code",
   "execution_count": 5,
   "metadata": {},
   "outputs": [],
   "source": [
    "ex4_ex5 = Exercicio('usairport')"
   ]
  },
  {
   "cell_type": "code",
   "execution_count": 6,
   "metadata": {},
   "outputs": [
    {
     "name": "stdout",
     "output_type": "stream",
     "text": [
      "Transitividade: 0.38414344664491556\n",
      "Agrupamento Medio: 0.5041525392095769\n"
     ]
    }
   ],
   "source": [
    "print(f'Transitividade: {ex4_ex5.transistividade()}')\n",
    "print(f'Agrupamento Medio: {ex4_ex5.agrupamento_medio()}')"
   ]
  },
  {
   "cell_type": "markdown",
   "metadata": {},
   "source": [
    "Exercicio 5  \n",
    "Qual o coeficiente de complexidade e a entropia de Shannon para a rede de aeroportos dos EUA?"
   ]
  },
  {
   "cell_type": "code",
   "execution_count": 7,
   "metadata": {},
   "outputs": [
    {
     "name": "stdout",
     "output_type": "stream",
     "text": [
      "Coeficiente de complexidade da rede: 112.22224803950043\n",
      "Entropia de Shannon: 4.985977646539227\n"
     ]
    }
   ],
   "source": [
    "print(f'Coeficiente de complexidade da rede: {ex4_ex5.coef_complexidade()}')\n",
    "print(f'Entropia de Shannon: {ex4_ex5.entropia_shannon()}')"
   ]
  }
 ],
 "metadata": {
  "interpreter": {
   "hash": "de9d8da38bbeff40d21933a2999bc0ad9a11ffc419578f1b5d149749370684ea"
  },
  "kernelspec": {
   "display_name": "Python 3.9.12 ('formacao-cientista')",
   "language": "python",
   "name": "python3"
  },
  "language_info": {
   "codemirror_mode": {
    "name": "ipython",
    "version": 3
   },
   "file_extension": ".py",
   "mimetype": "text/x-python",
   "name": "python",
   "nbconvert_exporter": "python",
   "pygments_lexer": "ipython3",
   "version": "3.9.7"
  },
  "orig_nbformat": 4
 },
 "nbformat": 4,
 "nbformat_minor": 2
}
